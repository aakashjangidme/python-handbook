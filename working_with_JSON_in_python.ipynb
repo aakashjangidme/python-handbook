{
 "cells": [
  {
   "cell_type": "code",
   "execution_count": 19,
   "metadata": {},
   "outputs": [
    {
     "data": {
      "text/plain": [
       "\"\\nFollowing is the example of an JSON Object\\n{\\n    'name' : 'Jhon',\\n    'address' : '123 Street, NY'\\n    'phone' : '9876551'\\n}\\n\""
      ]
     },
     "execution_count": 19,
     "metadata": {},
     "output_type": "execute_result"
    }
   ],
   "source": [
    "''' okay for our data analysis stuff we need to work on JSON files\n",
    "So, let's see how can we manipulate JSON within python '''\n",
    "\n",
    "'''\n",
    "Following is the example of an JSON Object\n",
    "{\n",
    "    'name' : 'Jhon',\n",
    "    'address' : '123 Street, NY'\n",
    "    'phone' : '9876551'\n",
    "}\n",
    "'''"
   ]
  },
  {
   "cell_type": "code",
   "execution_count": 21,
   "metadata": {},
   "outputs": [
    {
     "name": "stdout",
     "output_type": "stream",
     "text": [
      "{'jhon': {'name': 'Jhon', 'address': '123 Street, NY', 'phone': 9876551}, 'tom': {'name': 'Tom', 'address': '123 Washington, LA', 'phone': 9876442}}\n"
     ]
    }
   ],
   "source": [
    "#Let's create a book \n",
    "\n",
    "book = {}\n",
    "\n",
    "book['jhon'] = {\n",
    "    'name' : 'Jhon',\n",
    "    'address' : '123 Street, NY',\n",
    "    'phone' : 9876551\n",
    "}\n",
    "#Here, Jhon is the object, basically we can say that Jhon is our key, and it's value is in the dictionary form\n",
    "#so, JSON is basically dictionary of dictionaries\n",
    "\n",
    "book['tom'] = {\n",
    "    'name' : 'Tom',\n",
    "    'address' : '123 Washington, LA',\n",
    "    'phone' : 9876442\n",
    "}\n",
    "\n",
    "print(book)"
   ]
  },
  {
   "cell_type": "code",
   "execution_count": 22,
   "metadata": {},
   "outputs": [
    {
     "name": "stdout",
     "output_type": "stream",
     "text": [
      "{\"jhon\": {\"name\": \"Jhon\", \"address\": \"123 Street, NY\", \"phone\": 9876551}, \"tom\": {\"name\": \"Tom\", \"address\": \"123 Washington, LA\", \"phone\": 9876442}}\n"
     ]
    }
   ],
   "source": [
    "\n",
    "\n",
    "import json\n",
    "#json.dumps(dict_name)\n",
    "#it will dump the dictionary into 'string'\n",
    "s = json.dumps(book)\n",
    "print(s)"
   ]
  },
  {
   "cell_type": "code",
   "execution_count": 23,
   "metadata": {},
   "outputs": [],
   "source": [
    "#Stroing our Serialised JSON to a file called book_json.txt\n",
    "with open(\"book_json.txt\", \"w\") as f:\n",
    "    f.write(s)"
   ]
  },
  {
   "cell_type": "code",
   "execution_count": 28,
   "metadata": {},
   "outputs": [
    {
     "name": "stdout",
     "output_type": "stream",
     "text": [
      "{\"jhon\": {\"name\": \"Jhon\", \"address\": \"123 Street, NY\", \"phone\": 9876551}, \"tom\": {\"name\": \"Tom\", \"address\": \"123 Washington, LA\", \"phone\": 9876442}}\n",
      "<class 'str'>\n"
     ]
    }
   ],
   "source": [
    "#Reading our book_json\n",
    "with open(\"book_json.txt\",\"r\") as f:\n",
    "    d = f.read()\n",
    "    print(d)\n",
    "    print(type(d))"
   ]
  },
  {
   "cell_type": "code",
   "execution_count": 30,
   "metadata": {},
   "outputs": [
    {
     "data": {
      "text/plain": [
       "dict"
      ]
     },
     "execution_count": 30,
     "metadata": {},
     "output_type": "execute_result"
    }
   ],
   "source": [
    "#since our book_json is a string we need to import and load it as string\n",
    "import json\n",
    "book = json.loads(d) #loads, loads the string\n",
    "book\n",
    "type(book)\n",
    "#here type of the book is dict again,,\n",
    "#so we deserialised our json string to dictionary\n"
   ]
  },
  {
   "cell_type": "code",
   "execution_count": 34,
   "metadata": {},
   "outputs": [
    {
     "data": {
      "text/plain": [
       "'123 Street, NY'"
      ]
     },
     "execution_count": 34,
     "metadata": {},
     "output_type": "execute_result"
    }
   ],
   "source": [
    "#Manipulating our JSON <dict>\n",
    "\n",
    "book['jhon']\n",
    "book['jhon']['phone']\n",
    "book['jhon']['address']"
   ]
  },
  {
   "cell_type": "code",
   "execution_count": 39,
   "metadata": {},
   "outputs": [
    {
     "name": "stdout",
     "output_type": "stream",
     "text": [
      "jhon\n",
      "{'name': 'Jhon', 'address': '123 Street, NY', 'phone': 9876551} \n",
      "\n",
      "tom\n",
      "{'name': 'Tom', 'address': '123 Washington, LA', 'phone': 9876442} \n",
      "\n"
     ]
    }
   ],
   "source": [
    "for person in book:\n",
    "    print(person)\n",
    "    print(book[person], \"\\n\")\n",
    "    "
   ]
  }
 ],
 "metadata": {
  "kernelspec": {
   "display_name": "Python 3",
   "language": "python",
   "name": "python3"
  },
  "language_info": {
   "codemirror_mode": {
    "name": "ipython",
    "version": 3
   },
   "file_extension": ".py",
   "mimetype": "text/x-python",
   "name": "python",
   "nbconvert_exporter": "python",
   "pygments_lexer": "ipython3",
   "version": "3.7.4"
  }
 },
 "nbformat": 4,
 "nbformat_minor": 2
}
