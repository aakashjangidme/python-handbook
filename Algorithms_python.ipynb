{
 "cells": [
  {
   "cell_type": "markdown",
   "metadata": {},
   "source": [
    "#                                                  # Sorting Algorithms using Python\n"
   ]
  },
  {
   "cell_type": "markdown",
   "metadata": {},
   "source": [
    "### 1.                                                   Insertion Sort"
   ]
  },
  {
   "cell_type": "code",
   "execution_count": 1,
   "metadata": {
    "scrolled": true
   },
   "outputs": [
    {
     "name": "stdout",
     "output_type": "stream",
     "text": [
      "Unsorted array\n",
      "[16, 23, 43, 1, 31, 8]\n",
      " \n",
      " \n",
      "Sorted array\n",
      "[1, 8, 16, 23, 31, 43]\n"
     ]
    }
   ],
   "source": [
    "def insertion_sort(array):\n",
    "\n",
    "    for i in range(1, len(array)):       \n",
    "\n",
    "        #current number to be compared\n",
    "\n",
    "        curNum = array [i]\n",
    "\n",
    "       #compare curNum with the sorted part of the array and insert curNum\n",
    "\n",
    "        while i>0 and array[i-1] > curNum:\n",
    "\n",
    "            array[i] = array[i-1]\n",
    "\n",
    "            i = i-1\n",
    "\n",
    "            array[i] = curNum\n",
    "\n",
    "array=[16,23,43,1,31,8]\n",
    "\n",
    "print('Unsorted array')\n",
    "\n",
    "print(array)\n",
    "\n",
    "print(' ')\n",
    "\n",
    "insertion_sort(array)\n",
    "print(' ')\n",
    "\n",
    "print('Sorted array')\n",
    "\n",
    "print(array)"
   ]
  },
  {
   "cell_type": "markdown",
   "metadata": {},
   "source": [
    "### 2. Merge Sort"
   ]
  },
  {
   "cell_type": "code",
   "execution_count": 12,
   "metadata": {},
   "outputs": [
    {
     "name": "stdout",
     "output_type": "stream",
     "text": [
      "Unsorted array\n",
      "[1, 0, 4, 2, 3, 5]\n",
      "Sorted array\n",
      "[0, 1, 2, 3, 4, 5]\n"
     ]
    }
   ],
   "source": [
    "def partition(array, low, high):\n",
    "\n",
    "    i = (low - 1)\n",
    "\n",
    "    pivot = array[high]\n",
    "\n",
    "    for j in range(low, high):\n",
    "\n",
    "        if array[j] <= pivot:\n",
    "\n",
    "            i += 1\n",
    "\n",
    "            array[i], array[j] = array[j], array[i]\n",
    "\n",
    "    array[i + 1], array[high] = array[high], array[i + 1]\n",
    "\n",
    "    return (i + 1)\n",
    "\n",
    "           \n",
    "\n",
    "def quick_sort(array, low, high):\n",
    "\n",
    "    if low < high:\n",
    "\n",
    "        partition_index  = partition(array, low, high)\n",
    "\n",
    "        quick_sort(array, low, partition_index  - 1)\n",
    "\n",
    "        quick_sort(array, partition_index  + 1, high)\n",
    "\n",
    " \n",
    "\n",
    "array = [1, 0, 4, 2, 3, 5]\n",
    "\n",
    "print('Unsorted array')\n",
    "\n",
    "print(array)\n",
    "\n",
    " \n",
    "\n",
    "low = 0\n",
    "\n",
    "high = len(array) - 1\n",
    "\n",
    "quick_sort(array, low, high)\n",
    "\n",
    " \n",
    "\n",
    "print('Sorted array')\n",
    "\n",
    "print(array)"
   ]
  },
  {
   "cell_type": "markdown",
   "metadata": {},
   "source": [
    "# # Searching Algorithms"
   ]
  },
  {
   "cell_type": "markdown",
   "metadata": {},
   "source": [
    "### 1.Linear or Sequential Search"
   ]
  },
  {
   "cell_type": "code",
   "execution_count": 14,
   "metadata": {},
   "outputs": [
    {
     "name": "stdout",
     "output_type": "stream",
     "text": [
      "Value 5 found at position 6 using linear search\n"
     ]
    }
   ],
   "source": [
    "def search_linear(array, target):\n",
    "\n",
    "    for i in range (len(array)):       \n",
    "\n",
    "        if (array[i] == target):\n",
    "\n",
    "            return i\n",
    "\n",
    "    return None\n",
    "\n",
    "target = 5\n",
    "\n",
    "array = [1, 0, 4, 2, 3, 5]\n",
    "\n",
    "result = search_linear(array, target)\n",
    "\n",
    "if result is not None:\n",
    "\n",
    "    print('Value {} found at position {} using linear search'.format(target, result+1))\n",
    "\n",
    "else:    print('Not found')"
   ]
  },
  {
   "cell_type": "markdown",
   "metadata": {},
   "source": [
    "### 3. Binary Search"
   ]
  },
  {
   "cell_type": "code",
   "execution_count": 15,
   "metadata": {},
   "outputs": [
    {
     "name": "stdout",
     "output_type": "stream",
     "text": [
      "Value 5 found at position 6 using binary search\n"
     ]
    }
   ],
   "source": [
    "def search_binary(sorted_array, target):\n",
    "\n",
    "    left = 0\n",
    "\n",
    "    right = len(sorted_array) - 1\n",
    "\n",
    "    while left <= right:\n",
    "\n",
    "        midpoint = left + (right - left) // 2\n",
    "\n",
    "        current = sorted_array[midpoint]\n",
    "\n",
    "        if current == target:\n",
    "\n",
    "            return midpoint\n",
    "\n",
    "        else:\n",
    "\n",
    "            if target < current:\n",
    "\n",
    "                right = midpoint - 1\n",
    "\n",
    "            else:\n",
    "\n",
    "                left = midpoint + 1\n",
    "\n",
    "    return None\n",
    "\n",
    " \n",
    "\n",
    "target = 5\n",
    "\n",
    "sorted_array = [0, 1, 2, 3, 4, 5]\n",
    "\n",
    "result = search_binary(sorted_array, target)\n",
    "\n",
    "if result is not None:\n",
    "\n",
    "    print('Value {} found at position {} using binary search'.format(target, result+1))\n",
    "\n",
    "else:\n",
    "\n",
    "    print('Not found')"
   ]
  },
  {
   "cell_type": "markdown",
   "metadata": {},
   "source": [
    "### Geometrical Algorithm"
   ]
  },
  {
   "cell_type": "code",
   "execution_count": 16,
   "metadata": {},
   "outputs": [
    {
     "name": "stdout",
     "output_type": "stream",
     "text": [
      "False\n",
      "True\n",
      "False\n"
     ]
    }
   ],
   "source": [
    "class Point:\n",
    "\n",
    "     def __init__(self, x, y):\n",
    "\n",
    "         self.x = x\n",
    "\n",
    "         self.y = y\n",
    "\n",
    " \n",
    "\n",
    "     def subtract(self, p):\n",
    "\n",
    "          return Point(self.x - p.x, self.y - p.y)\n",
    "\n",
    " \n",
    "\n",
    "def cross_product(p1, p2):\n",
    "\n",
    "      return p1.x * p2.y - p2.x * p1.y\n",
    "\n",
    " \n",
    "\n",
    "def direction(p1, p2, p3):\n",
    "\n",
    "     return  cross_product(p3.subtract(p1), p2.subtract(p1))\n",
    "\n",
    " \n",
    "\n",
    "def on_segment(p1, p2, p):\n",
    "\n",
    "     return min(p1.x, p2.x) <= p.x <= max(p1.x, p2.x) and min(p1.y, p2.y) <= p.y <= max(p1.y, p2.y)\n",
    "\n",
    " \n",
    "\n",
    "def intersect(p1, p2, p3, p4):\n",
    "\n",
    "     d1 = direction(p3, p4, p1)\n",
    "\n",
    "     d2 = direction(p3, p4, p2)\n",
    "\n",
    "     d3 = direction(p1, p2, p3)\n",
    "\n",
    "     d4 = direction(p1, p2, p4)\n",
    "\n",
    " \n",
    "\n",
    "     if ((d1 > 0 and d2 < 0) or (d1 < 0 and d2 > 0)) and ((d3 > 0 and d4 < 0) or (d3 < 0 and d4 > 0)):\n",
    "\n",
    "         return True\n",
    "\n",
    "     elif d1 == 0 and on_segment(p3, p4, p1):\n",
    "\n",
    "         return True\n",
    "\n",
    "     elif d2 == 0 and on_segment(p3, p4, p2):\n",
    "\n",
    "         return True\n",
    "\n",
    "     elif d3 == 0 and on_segment(p1, p2, p3):\n",
    "\n",
    "         return True\n",
    "\n",
    "     elif d4 == 0 and on_segment(p1, p2, p4):\n",
    "\n",
    "         return True\n",
    "\n",
    "     else:\n",
    "\n",
    "         return False\n",
    "\n",
    " \n",
    "\n",
    "#False\n",
    "\n",
    "point1 = Point(1,1)\n",
    "\n",
    "point2 = Point(10,1)\n",
    "\n",
    "point3 = Point(1,2)\n",
    "\n",
    "point4 = Point(10,2)\n",
    "\n",
    "result = intersect(point1, point2, point3, point4)\n",
    "\n",
    "print(result)\n",
    "\n",
    " \n",
    "\n",
    "#True\n",
    "\n",
    "point1 = Point(10,1)\n",
    "\n",
    "point2 = Point(0,10)\n",
    "\n",
    "point3 = Point(0,0)\n",
    "\n",
    "point4 = Point(10,10)\n",
    "\n",
    "result = intersect(point1, point2, point3, point4)\n",
    "\n",
    "print(result)\n",
    "\n",
    " \n",
    "\n",
    "#False\n",
    "\n",
    "point1 = Point(-5,-5)\n",
    "\n",
    "point2 = Point(0,0)\n",
    "\n",
    "point3 = Point(1,1)\n",
    "\n",
    "point4 = Point(10,10)\n",
    "\n",
    "result = intersect(point1, point2, point3, point4)\n",
    "\n",
    "print(result)"
   ]
  }
 ],
 "metadata": {
  "kernelspec": {
   "display_name": "Python 3.7.4 32-bit",
   "language": "python",
   "name": "python37432bitf0d193c19b804c5caa057c0e54d3aa10"
  },
  "language_info": {
   "codemirror_mode": {
    "name": "ipython",
    "version": 3
   },
   "file_extension": ".py",
   "mimetype": "text/x-python",
   "name": "python",
   "nbconvert_exporter": "python",
   "pygments_lexer": "ipython3",
   "version": "3.7.4"
  }
 },
 "nbformat": 4,
 "nbformat_minor": 2
}
